{
 "cells": [
  {
   "cell_type": "code",
   "execution_count": 3,
   "metadata": {},
   "outputs": [
    {
     "name": "stdout",
     "output_type": "stream",
     "text": [
      "SpikeInterface version: 0.98.0.dev0\n"
     ]
    }
   ],
   "source": [
    "### to check the template mismatch after removing units\n",
    "import spikeinterface.extractors as se\n",
    "import  spikeinterface.postprocessing as spost\n",
    "import spikeinterface.core as sc\n",
    "import spikeinterface as si\n",
    "import spikeinterface.curation as curation\n",
    "from spikeinterface.extractors import BinaryRecordingExtractor\n",
    "import spikeinterface.preprocessing as spre\n",
    "import numpy as np\n",
    "import matplotlib.pyplot as plt\n",
    "import json\n",
    "from functions import *\n",
    "import warnings\n",
    "warnings.simplefilter(\"ignore\")\n",
    "print(f\"SpikeInterface version: {si.__version__}\")"
   ]
  },
  {
   "cell_type": "code",
   "execution_count": 4,
   "metadata": {},
   "outputs": [],
   "source": [
    "# set path\n",
    "rec_name = \"rec6\"\n",
    "base_folder = \"/media/kang/Seagate_External/TJ_data_25/\" + rec_name\n",
    "phy_path = base_folder + \"/kilosort2_5_results\"\n",
    "auto_curation_path = base_folder + \"/sorted.npz\"\n",
    "# filtered_rec_path = phy_path + \"/temp_wh.dat\"   # use raw data, do filter and CMR\n",
    "rec_path = base_folder + \"/continuous.dat\"\n",
    "extract_path = base_folder + \"/extract_waveforms\"\n",
    "\n",
    "# set parameters\n",
    "fs = 30000\n",
    "num_channel = 384"
   ]
  },
  {
   "cell_type": "code",
   "execution_count": 5,
   "metadata": {},
   "outputs": [
    {
     "name": "stdout",
     "output_type": "stream",
     "text": [
      "[338, 362, 363, 364, 365, 366, 367, 368, 369, 370, 371, 372, 373, 374, 375, 376, 377, 378, 379, 380, 381, 382, 383, 384]\n",
      "Number of units after auto curation:  225\n",
      "[166, 170, 304, 302, 169, 303, 305, 183, 364, 164, 160, 297, 162, 298, 81, 262, 80, 179, 181, 367, 313, 178, 6, 5, 243, 32, 31, 29, 242, 240, 28, 241, 369, 318, 193, 371, 373, 236, 23, 24, 237, 223, 222, 7, 224, 168, 310, 175, 312, 334, 212, 333, 377, 295, 158, 136, 330, 331, 211, 332, 187, 314, 209, 329, 90, 87, 264, 255, 52, 140, 15, 229, 285, 287, 286, 294, 154, 362, 156, 384, 321, 375, 150, 360, 149, 260, 68, 220, 219, 2, 338, 205, 30, 4, 142, 235, 346, 22, 167, 163, 326, 14, 8, 340, 204, 10, 246, 245, 36, 130, 152, 293, 381, 261, 76, 155, 253, 49, 17, 195, 265, 92, 116, 275, 291, 144, 194, 105, 199, 123, 208, 42, 337, 316, 368, 19, 342, 344, 230, 231, 345, 232, 82, 382, 387, 129, 283, 44, 252, 69, 122, 315, 3, 324, 254, 47, 203, 272, 145, 39, 38, 309, 141, 358, 78, 112, 101, 115, 335, 325, 374, 383, 124, 125, 213, 336, 306, 172, 177, 251, 250, 86, 244, 127, 292, 348, 110, 111, 25, 361, 34, 102, 98, 339, 386, 16, 266, 247, 37, 317, 356, 180, 351, 96, 269, 270, 233, 258, 63, 352, 259, 65, 347, 99, 106, 176, 380, 385, 88, 89, 280, 93, 74, 171, 121]\n",
      "KiloSortSortingExtractor: 388 units - 1 segments - 30.0kHz\n",
      "UnitsSelectionSorting: 225 units - 1 segments - 30.0kHz\n"
     ]
    }
   ],
   "source": [
    "with open(\"exclude_channels_TJ_np.json\", 'r') as j:\n",
    "     exclude_channels = json.loads(j.read())[rec_name]\n",
    "print(exclude_channels)\n",
    "selected_units = select_units(auto_curation_path, exclude_channels)\n",
    "print(selected_units)\n",
    "phy_result = se.KiloSortSortingExtractor(phy_path)\n",
    "print(phy_result)\n",
    "auto_curated = phy_result.select_units(selected_units)\n",
    "print(auto_curated)"
   ]
  },
  {
   "cell_type": "code",
   "execution_count": 6,
   "metadata": {},
   "outputs": [
    {
     "data": {
      "text/plain": [
       "BinaryRecordingExtractor: 384 channels - 30.0kHz - 1 segments - 108,275,148 samples \n",
       "                          3,609.17s (1.00 hours) - int16 dtype - 77.44 GiB\n",
       "  file_paths: ['/media/kang/Seagate_External/TJ_data_25/rec6/continuous.dat']"
      ]
     },
     "execution_count": 6,
     "metadata": {},
     "output_type": "execute_result"
    }
   ],
   "source": [
    "rec = BinaryRecordingExtractor(\n",
    "        file_paths=rec_path,\n",
    "        sampling_frequency=fs,\n",
    "        num_chan=num_channel,\n",
    "        dtype=\"int16\",\n",
    "        channel_ids=list(range(1, num_channel + 1))\n",
    "    )\n",
    "channel_locs = set_channel_loc_np()\n",
    "rec.set_channel_locations(np.array(channel_locs))\n",
    "rec"
   ]
  },
  {
   "cell_type": "code",
   "execution_count": 7,
   "metadata": {},
   "outputs": [
    {
     "data": {
      "text/plain": [
       "CommonReferenceRecording: 384 channels - 30.0kHz - 1 segments - 108,275,148 samples \n",
       "                          3,609.17s (1.00 hours) - int16 dtype - 77.44 GiB"
      ]
     },
     "execution_count": 7,
     "metadata": {},
     "output_type": "execute_result"
    }
   ],
   "source": [
    "## filter and do cmr to the recording\n",
    "rec_filt = spre.bandpass_filter(rec, freq_min=300, freq_max=6000)\n",
    "rec_cmr = spre.common_reference(rec_filt, verbose=True)\n",
    "rec_cmr"
   ]
  },
  {
   "cell_type": "code",
   "execution_count": 8,
   "metadata": {},
   "outputs": [
    {
     "name": "stdout",
     "output_type": "stream",
     "text": [
      "WaveformExtractor: 384 channels - 225 units - 1 segments\n",
      "  before:90 after:120 n_per_units:500\n"
     ]
    }
   ],
   "source": [
    "import os\n",
    "force_extract = False\n",
    "job_kwargs = dict(n_jobs=8, progress_bar=True)\n",
    "\n",
    "if os.path.isdir(extract_path) and not force_extract:\n",
    "    we = sc.WaveformExtractor.load(folder=extract_path) \n",
    "    print(we)\n",
    "else:\n",
    "    we = sc.WaveformExtractor(rec_cmr, auto_curated, base_folder, allow_unfiltered=False)\n",
    "    we.set_params(ms_before=3.0, ms_after=4.0)\n",
    "    we.run_extract_waveforms( **job_kwargs)\n",
    "    we.save(extract_path, overwrite=True)"
   ]
  },
  {
   "cell_type": "code",
   "execution_count": 10,
   "metadata": {},
   "outputs": [
    {
     "data": {
      "text/plain": [
       "(225, 210, 384)"
      ]
     },
     "execution_count": 10,
     "metadata": {},
     "output_type": "execute_result"
    }
   ],
   "source": [
    "we._template_cache[\"average\"].shape"
   ]
  },
  {
   "cell_type": "code",
   "execution_count": 11,
   "metadata": {},
   "outputs": [
    {
     "name": "stdout",
     "output_type": "stream",
     "text": [
      "{166: 274, 170: 274, 304: 278, 302: 270, 169: 274, 303: 278, 305: 274, 183: 286, 364: 270, 164: 270, 160: 270, 297: 270, 162: 270, 298: 270, 81: 142, 262: 142, 80: 142, 179: 282, 181: 282, 367: 284, 313: 284, 178: 278, 6: 16, 5: 16, 243: 36, 32: 36, 31: 36, 29: 34, 242: 36, 240: 34, 28: 34, 241: 34, 369: 298, 318: 300, 193: 301, 371: 300, 373: 301, 236: 30, 23: 30, 24: 30, 237: 30, 223: 18, 222: 18, 7: 18, 224: 18, 168: 275, 310: 278, 175: 278, 312: 282, 334: 334, 212: 334, 333: 334, 377: 334, 295: 266, 158: 265, 136: 235, 330: 330, 331: 330, 211: 332, 332: 332, 187: 288, 314: 286, 209: 327, 329: 327, 90: 158, 87: 158, 264: 158, 255: 62, 52: 62, 140: 242, 15: 24, 229: 26, 285: 230, 287: 229, 286: 230, 294: 261, 154: 261, 362: 263, 156: 263, 384: 314, 321: 314, 375: 314, 150: 254, 360: 256, 149: 253, 260: 110, 68: 110, 220: 13, 219: 10, 2: 10, 338: 10, 205: 321, 30: 35, 4: 14, 142: 245, 235: 29, 346: 29, 22: 31, 167: 271, 163: 270, 326: 322, 14: 24, 8: 22, 340: 20, 204: 320, 10: 19, 246: 46, 245: 41, 36: 43, 130: 226, 152: 257, 293: 258, 381: 257, 261: 132, 76: 132, 155: 262, 253: 58, 49: 58, 17: 26, 195: 306, 265: 164, 92: 164, 116: 207, 275: 209, 291: 246, 144: 247, 194: 302, 105: 186, 199: 312, 123: 211, 208: 326, 42: 46, 337: 340, 316: 295, 368: 295, 19: 29, 342: 27, 344: 27, 230: 27, 231: 28, 345: 27, 232: 25, 82: 142, 382: 280, 387: 278, 129: 225, 283: 224, 44: 54, 252: 54, 69: 112, 122: 210, 315: 289, 3: 10, 324: 317, 254: 59, 47: 59, 203: 318, 272: 191, 145: 248, 39: 42, 38: 42, 309: 282, 141: 242, 358: 218, 78: 139, 112: 198, 101: 178, 115: 204, 335: 331, 325: 323, 374: 314, 383: 314, 124: 210, 125: 214, 213: 335, 336: 335, 306: 280, 172: 277, 177: 282, 251: 46, 250: 46, 86: 154, 244: 41, 127: 220, 292: 254, 348: 34, 110: 194, 111: 194, 25: 32, 361: 259, 34: 40, 102: 180, 98: 176, 339: 19, 386: 278, 16: 25, 266: 168, 247: 44, 37: 44, 317: 296, 356: 212, 180: 283, 351: 98, 96: 173, 269: 182, 270: 182, 233: 28, 258: 105, 63: 105, 352: 105, 259: 105, 65: 105, 347: 34, 99: 178, 106: 187, 176: 284, 380: 155, 385: 156, 88: 156, 89: 156, 280: 211, 93: 167, 74: 127, 171: 274, 121: 209}\n"
     ]
    }
   ],
   "source": [
    "best_channels = sc.get_template_extremum_channel(we)\n",
    "print(best_channels)"
   ]
  },
  {
   "cell_type": "code",
   "execution_count": 12,
   "metadata": {},
   "outputs": [
    {
     "name": "stdout",
     "output_type": "stream",
     "text": [
      "[[262, 81], [32, 243], [163, 364], [14, 15], [19, 235], [82, 81], [82, 262], [177, 179], [244, 245], [339, 10], [176, 367], [280, 123], [171, 166], [171, 386]]\n",
      "14 [[262, 81], [32, 243], [163, 364], [14, 15], [19, 235], [82, 81], [82, 262], [177, 179], [244, 245], [339, 10], [176, 367], [280, 123], [171, 166], [171, 386]]\n",
      "[262, 243, 163, 14, 19, 82, 262, 177, 245, 339, 176, 280, 171, 386]\n",
      "UnitsSelectionSorting: 212 units - 1 segments - 30.0kHz\n"
     ]
    }
   ],
   "source": [
    "# from spikeinterface.core.template_tools import get_template_amplitudes\n",
    "redundant_units = curation.find_redundant_units(we.sorting)\n",
    "print(redundant_units)\n",
    "\n",
    "# peak_values = get_template_amplitudes(we, peak_sign=\"neg\", mode=\"at_index\")\n",
    "# peak_values = {unit_id: np.max(np.abs(values)) for unit_id, values in peak_values.items()}\n",
    "# remove_unit_ids = []\n",
    "curated_redundant, redundant_unit_pairs, remove_unit_ids = \\\n",
    "    curation.remove_redundant_units(we, align=False, remove_strategy=\"highest_amplitude\", extra_outputs=True)\n",
    "# for u1, u2 in redundant_unit_pairs:\n",
    "#     if np.abs(peak_values[u1]) < np.abs(peak_values[u2]):\n",
    "#         remove_unit_ids.append(u1)\n",
    "#     else:\n",
    "#         remove_unit_ids.append(u2)\n",
    "\n",
    "print(len(redundant_unit_pairs), redundant_unit_pairs)\n",
    "print(remove_unit_ids)\n",
    "print(curated_redundant)\n",
    "we.sorting = curated_redundant"
   ]
  },
  {
   "cell_type": "code",
   "execution_count": 13,
   "metadata": {},
   "outputs": [
    {
     "data": {
      "text/plain": [
       "(225, 210, 384)"
      ]
     },
     "execution_count": 13,
     "metadata": {},
     "output_type": "execute_result"
    }
   ],
   "source": [
    "we._template_cache[\"average\"].shape"
   ]
  },
  {
   "cell_type": "code",
   "execution_count": 14,
   "metadata": {},
   "outputs": [
    {
     "data": {
      "text/plain": [
       "177"
      ]
     },
     "execution_count": 14,
     "metadata": {},
     "output_type": "execute_result"
    }
   ],
   "source": [
    "best_channels_re = sc.get_template_extremum_channel(we)\n",
    "diff_counter = 0\n",
    "for k, v in best_channels_re.items():\n",
    "    if v != best_channels[k]:\n",
    "        diff_counter += 1\n",
    "diff_counter"
   ]
  },
  {
   "cell_type": "code",
   "execution_count": 15,
   "metadata": {},
   "outputs": [
    {
     "name": "stdout",
     "output_type": "stream",
     "text": [
      "(212, 210, 384)\n"
     ]
    }
   ],
   "source": [
    "# manually remove templates\n",
    "import copy\n",
    "original_ids = auto_curated.get_unit_ids().tolist()\n",
    "indices_to_remove = [original_ids.index(id) for id in remove_unit_ids]\n",
    "original_templates = copy.deepcopy(we._template_cache['average'])\n",
    "we._template_cache[\"average\"] = np.delete(original_templates, indices_to_remove, axis=0)\n",
    "print(we._template_cache[\"average\"].shape)"
   ]
  },
  {
   "cell_type": "code",
   "execution_count": 16,
   "metadata": {},
   "outputs": [
    {
     "data": {
      "text/plain": [
       "0"
      ]
     },
     "execution_count": 16,
     "metadata": {},
     "output_type": "execute_result"
    }
   ],
   "source": [
    "best_channels_mn = sc.get_template_extremum_channel(we)\n",
    "diff_counter = 0\n",
    "for k, v in best_channels_mn.items():\n",
    "    if v != best_channels[k]:\n",
    "        diff_counter += 1\n",
    "diff_counter"
   ]
  },
  {
   "cell_type": "code",
   "execution_count": null,
   "metadata": {},
   "outputs": [],
   "source": []
  }
 ],
 "metadata": {
  "kernelspec": {
   "display_name": "venv",
   "language": "python",
   "name": "python3"
  },
  "language_info": {
   "codemirror_mode": {
    "name": "ipython",
    "version": 3
   },
   "file_extension": ".py",
   "mimetype": "text/x-python",
   "name": "python",
   "nbconvert_exporter": "python",
   "pygments_lexer": "ipython3",
   "version": "3.10.6"
  },
  "orig_nbformat": 4
 },
 "nbformat": 4,
 "nbformat_minor": 2
}
